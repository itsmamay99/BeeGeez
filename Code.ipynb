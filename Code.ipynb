{
  "nbformat": 4,
  "nbformat_minor": 0,
  "metadata": {
    "colab": {
      "provenance": []
    },
    "kernelspec": {
      "name": "python3",
      "display_name": "Python 3"
    },
    "language_info": {
      "name": "python"
    }
  },
  "cells": [
    {
      "cell_type": "code",
      "execution_count": 5,
      "metadata": {
        "id": "3nq_vf48t3_u"
      },
      "outputs": [],
      "source": [
        "import sqlite3"
      ]
    },
    {
      "cell_type": "code",
      "source": [
        "import pandas as pd"
      ],
      "metadata": {
        "id": "SV50n6anuVvL"
      },
      "execution_count": 6,
      "outputs": []
    },
    {
      "cell_type": "code",
      "source": [
        "conn = sqlite3.connect('beegeez_sales_data_sqlite3.db')"
      ],
      "metadata": {
        "id": "Tiq0eE_xuabG"
      },
      "execution_count": 8,
      "outputs": []
    },
    {
      "cell_type": "code",
      "source": [
        "cur = conn.cursor()\n",
        "cur.execute(\"SELECT * FROM sales\")\n",
        "results = cur.fetchall()\n",
        "for row in results:\n",
        "    print(row)\n"
      ],
      "metadata": {
        "colab": {
          "base_uri": "https://localhost:8080/"
        },
        "id": "x73p7ctsuh4h",
        "outputId": "1aa4cc21-2c9c-4b06-dcde-68e239386f40"
      },
      "execution_count": 4,
      "outputs": [
        {
          "output_type": "stream",
          "name": "stdout",
          "text": [
            "('Australia and Oceania', 'Tuvalu', 'Baby Food', 'Offline', 'H', '2010-05-28', 669165933, '2010-06-27', 9925, 255.28, 159.42, 2533654.0, 1582243.5, 951410.5)\n",
            "('Central America and the Caribbean', 'Grenada', 'Cereal', 'Online', 'C', '2012-08-22', 963881480, '2012-09-15', 2804, 205.7, 117.11, 576782.8, 328376.44, 248406.36)\n",
            "('Europe', 'Russia', 'Office Supplies', 'Offline', 'L', '2014-05-02', 341417157, '2014-05-08', 1779, 651.21, 524.96, 1158502.59, 933903.84, 224598.75)\n",
            "('Sub-Saharan Africa', 'Sao Tome and Principe', 'Fruits', 'Online', 'C', '2014-06-20', 514321792, '2014-07-05', 8102, 9.33, 6.92, 75591.66, 56065.84, 19525.82)\n",
            "('Sub-Saharan Africa', 'Rwanda', 'Office Supplies', 'Offline', 'L', '2013-02-01', 115456712, '2013-02-06', 5062, 651.21, 524.96, 3296425.02, 2657347.52, 639077.5)\n",
            "('Australia and Oceania', 'Solomon Islands', 'Baby Food', 'Online', 'C', '2015-02-04', 547995746, '2015-02-21', 2974, 255.28, 159.42, 759202.72, 474115.08, 285087.64)\n",
            "('Sub-Saharan Africa', 'Angola', 'Household', 'Offline', 'M', '2011-04-23', 135425221, '2011-04-27', 4187, 668.27, 502.54, 2798046.49, 2104134.98, 693911.51)\n",
            "('Sub-Saharan Africa', 'Burkina Faso', 'Vegetables', 'Online', 'H', '2012-07-17', 871543967, '2012-07-27', 8082, 154.06, 90.93, 1245112.92, 734896.26, 510216.66)\n",
            "('Sub-Saharan Africa', 'Republic of the Congo', 'Personal Care', 'Offline', 'M', '2015-07-14', 770463311, '2015-08-25', 6070, 81.73, 56.67, 496101.1, 343986.9, 152114.2)\n",
            "('Sub-Saharan Africa', 'Senegal', 'Cereal', 'Online', 'H', '2014-04-18', 616607081, '2014-05-30', 6593, 205.7, 117.11, 1356180.1, 772106.23, 584073.87)\n",
            "('Asia', 'Kyrgyzstan', 'Vegetables', 'Online', 'H', '2011-06-24', 814711606, '2011-07-12', 124, 154.06, 90.93, 19103.44, 11275.32, 7828.12)\n",
            "('Sub-Saharan Africa', 'Cape Verde', 'Clothes', 'Offline', 'H', '2014-08-02', 939825713, '2014-08-19', 4168, 109.28, 35.84, 455479.04, 149381.12, 306097.92)\n",
            "('Asia', 'Bangladesh', 'Clothes', 'Online', 'L', '2017-01-13', 187310731, '2017-03-01', 8263, 109.28, 35.84, 902980.64, 296145.92, 606834.72)\n",
            "('Central America and the Caribbean', 'Honduras', 'Household', 'Offline', 'H', '2017-02-08', 522840487, '2017-02-13', 8974, 668.27, 502.54, 5997054.98, 4509793.96, 1487261.02)\n",
            "('Asia', 'Mongolia', 'Personal Care', 'Offline', 'C', '2014-02-19', 832401311, '2014-02-23', 4901, 81.73, 56.67, 400558.73, 277739.67, 122819.06)\n",
            "('Europe', 'Bulgaria', 'Clothes', 'Online', 'M', '2012-04-23', 972292029, '2012-06-03', 1673, 109.28, 35.84, 182825.44, 59960.32, 122865.12)\n",
            "('Asia', 'Sri Lanka', 'Cosmetics', 'Offline', 'M', '2016-11-19', 419123971, '2016-12-18', 6952, 437.2, 263.33, 3039414.4, 1830670.16, 1208744.24)\n",
            "('Sub-Saharan Africa', 'Cameroon', 'Beverages', 'Offline', 'C', '2015-04-01', 519820964, '2015-04-18', 5430, 47.45, 31.79, 257653.5, 172619.7, 85033.8)\n",
            "('Asia', 'Turkmenistan', 'Household', 'Offline', 'L', '2010-12-30', 441619336, '2011-01-20', 3830, 668.27, 502.54, 2559474.1, 1924728.2, 634745.9)\n",
            "('Australia and Oceania', 'East Timor', 'Meat', 'Online', 'L', '2012-07-31', 322067916, '2012-09-11', 5908, 421.89, 364.69, 2492526.12, 2154588.52, 337937.6)\n",
            "('Europe', 'Norway', 'Baby Food', 'Online', 'L', '2014-05-14', 819028031, '2014-06-28', 7450, 255.28, 159.42, 1901836.0, 1187679.0, 714157.0)\n",
            "('Europe', 'Portugal', 'Baby Food', 'Online', 'H', '2015-07-31', 860673511, '2015-09-03', 1273, 255.28, 159.42, 324971.44, 202941.66, 122029.78)\n",
            "('Central America and the Caribbean', 'Honduras', 'Snacks', 'Online', 'L', '2016-06-30', 795490682, '2016-07-26', 2225, 152.58, 97.44, 339490.5, 216804.0, 122686.5)\n",
            "('Australia and Oceania', 'New Zealand', 'Fruits', 'Online', 'H', '2014-09-08', 142278373, '2014-10-04', 2187, 9.33, 6.92, 20404.71, 15134.04, 5270.67)\n",
            "('Europe', 'Moldova ', 'Personal Care', 'Online', 'L', '2016-05-07', 740147912, '2016-05-10', 5070, 81.73, 56.67, 414371.1, 287316.9, 127054.2)\n",
            "('Europe', 'France', 'Cosmetics', 'Online', 'H', '2017-05-22', 898523128, '2017-06-05', 1815, 437.2, 263.33, 793518.0, 477943.95, 315574.05)\n",
            "('Australia and Oceania', 'Kiribati', 'Fruits', 'Online', 'M', '2014-10-13', 347140347, '2014-11-10', 5398, 9.33, 6.92, 50363.34, 37354.16, 13009.18)\n",
            "('Sub-Saharan Africa', 'Mali', 'Fruits', 'Online', 'L', '2010-05-07', 686048400, '2010-05-10', 5822, 9.33, 6.92, 54319.26, 40288.24, 14031.02)\n",
            "('Europe', 'Norway', 'Beverages', 'Offline', 'C', '2014-07-18', 435608613, '2014-07-30', 5124, 47.45, 31.79, 243133.8, 162891.96, 80241.84)\n",
            "('Sub-Saharan Africa', 'The Gambia', 'Household', 'Offline', 'L', '2012-05-26', 886494815, '2012-06-09', 2370, 668.27, 502.54, 1583799.9, 1191019.8, 392780.1)\n",
            "('Europe', 'Switzerland', 'Cosmetics', 'Offline', 'M', '2012-09-17', 249693334, '2012-10-20', 8661, 437.2, 263.33, 3786589.2, 2280701.13, 1505888.07)\n",
            "('Sub-Saharan Africa', 'South Sudan', 'Personal Care', 'Offline', 'C', '2013-12-29', 406502997, '2014-01-28', 2125, 81.73, 56.67, 173676.25, 120423.75, 53252.5)\n",
            "('Australia and Oceania', 'Australia', 'Office Supplies', 'Online', 'C', '2015-10-27', 158535134, '2015-11-25', 2924, 651.21, 524.96, 1904138.04, 1534983.04, 369155.0)\n",
            "('Asia', 'Myanmar', 'Household', 'Offline', 'H', '2015-01-16', 177713572, '2015-03-01', 8250, 668.27, 502.54, 5513227.5, 4145955.0, 1367272.5)\n",
            "('Sub-Saharan Africa', 'Djibouti', 'Snacks', 'Online', 'M', '2017-02-25', 756274640, '2017-02-25', 7327, 152.58, 97.44, 1117953.66, 713942.88, 404010.78)\n",
            "('Central America and the Caribbean', 'Costa Rica', 'Personal Care', 'Offline', 'L', '2017-05-08', 456767165, '2017-05-21', 6409, 81.73, 56.67, 523807.57, 363198.03, 160609.54)\n",
            "('Middle East and North Africa', 'Syria', 'Fruits', 'Online', 'L', '2011-11-22', 162052476, '2011-12-03', 3784, 9.33, 6.92, 35304.72, 26185.28, 9119.44)\n",
            "('Sub-Saharan Africa', 'The Gambia', 'Meat', 'Online', 'M', '2017-01-14', 825304400, '2017-01-23', 4767, 421.89, 364.69, 2011149.63, 1738477.23, 272672.4)\n",
            "('Asia', 'Brunei', 'Office Supplies', 'Online', 'L', '2012-04-01', 320009267, '2012-05-08', 6708, 651.21, 524.96, 4368316.68, 3521431.68, 846885.0)\n",
            "('Europe', 'Bulgaria', 'Office Supplies', 'Online', 'M', '2012-02-16', 189965903, '2012-02-28', 3987, 651.21, 524.96, 2596374.27, 2093015.52, 503358.75)\n",
            "('Sub-Saharan Africa', 'Niger', 'Personal Care', 'Online', 'H', '2017-03-11', 699285638, '2017-03-28', 3015, 81.73, 56.67, 246415.95, 170860.05, 75555.9)\n",
            "('Middle East and North Africa', 'Azerbaijan', 'Cosmetics', 'Online', 'M', '2010-02-06', 382392299, '2010-02-25', 7234, 437.2, 263.33, 3162704.8, 1904929.22, 1257775.58)\n",
            "('Sub-Saharan Africa', 'The Gambia', 'Cereal', 'Offline', 'H', '2012-06-07', 994022214, '2012-06-08', 2117, 205.7, 117.11, 435466.9, 247921.87, 187545.03)\n",
            "('Europe', 'Slovakia', 'Vegetables', 'Online', 'H', '2012-10-06', 759224212, '2012-11-10', 171, 154.06, 90.93, 26344.26, 15549.03, 10795.23)\n",
            "('Asia', 'Myanmar', 'Clothes', 'Online', 'H', '2015-11-14', 223359620, '2015-11-18', 5930, 109.28, 35.84, 648030.4, 212531.2, 435499.2)\n",
            "('Sub-Saharan Africa', 'Comoros', 'Cereal', 'Offline', 'H', '2016-03-29', 902102267, '2016-04-29', 962, 205.7, 117.11, 197883.4, 112659.82, 85223.58)\n",
            "('Europe', 'Iceland', 'Cosmetics', 'Online', 'C', '2016-12-31', 331438481, '2016-12-31', 8867, 437.2, 263.33, 3876652.4, 2334947.11, 1541705.29)\n",
            "('Europe', 'Switzerland', 'Personal Care', 'Online', 'M', '2010-12-23', 617667090, '2011-01-31', 273, 81.73, 56.67, 22312.29, 15470.91, 6841.38)\n",
            "('Europe', 'Macedonia', 'Clothes', 'Offline', 'C', '2014-10-14', 787399423, '2014-11-14', 7842, 109.28, 35.84, 856973.76, 281057.28, 575916.48)\n",
            "('Sub-Saharan Africa', 'Mauritania', 'Office Supplies', 'Offline', 'C', '2012-01-11', 837559306, '2012-01-13', 1266, 651.21, 524.96, 824431.86, 664599.36, 159832.5)\n",
            "('Europe', 'Albania', 'Clothes', 'Online', 'C', '2010-02-02', 385383069, '2010-03-18', 2269, 109.28, 35.84, 247956.32, 81320.96, 166635.36)\n",
            "('Sub-Saharan Africa', 'Lesotho', 'Fruits', 'Online', 'L', '2013-08-18', 918419539, '2013-09-18', 9606, 9.33, 6.92, 89623.98, 66473.52, 23150.46)\n",
            "('Middle East and North Africa', 'Saudi Arabia', 'Cereal', 'Online', 'M', '2013-03-25', 844530045, '2013-03-28', 4063, 205.7, 117.11, 835759.1, 475817.93, 359941.17)\n",
            "('Sub-Saharan Africa', 'Sierra Leone', 'Office Supplies', 'Offline', 'M', '2011-11-26', 441888415, '2012-01-07', 3457, 651.21, 524.96, 2251232.97, 1814786.72, 436446.25)\n",
            "('Sub-Saharan Africa', 'Sao Tome and Principe', 'Fruits', 'Offline', 'H', '2013-09-17', 508980977, '2013-10-24', 7637, 9.33, 6.92, 71253.21, 52848.04, 18405.17)\n",
            "('Sub-Saharan Africa', \"Cote d'Ivoire\", 'Clothes', 'Online', 'C', '2012-06-08', 114606559, '2012-06-27', 3482, 109.28, 35.84, 380512.96, 124794.88, 255718.08)\n",
            "('Australia and Oceania', 'Fiji', 'Clothes', 'Offline', 'C', '2010-06-30', 647876489, '2010-08-01', 9905, 109.28, 35.84, 1082418.4, 354995.2, 727423.2)\n",
            "('Europe', 'Austria', 'Cosmetics', 'Offline', 'H', '2015-02-23', 868214595, '2015-03-02', 2847, 437.2, 263.33, 1244708.4, 749700.51, 495007.89)\n",
            "('Europe', 'United Kingdom', 'Household', 'Online', 'L', '2012-01-05', 955357205, '2012-02-14', 282, 668.27, 502.54, 188452.14, 141716.28, 46735.86)\n",
            "('Sub-Saharan Africa', 'Djibouti', 'Cosmetics', 'Offline', 'H', '2014-04-07', 259353148, '2014-04-19', 7215, 437.2, 263.33, 3154398.0, 1899925.95, 1254472.05)\n",
            "('Australia and Oceania', 'Australia', 'Cereal', 'Offline', 'H', '2013-06-09', 450563752, '2013-07-02', 682, 205.7, 117.11, 140287.4, 79869.02, 60418.38)\n",
            "('Europe', 'San Marino', 'Baby Food', 'Online', 'L', '2013-06-26', 569662845, '2013-07-01', 4750, 255.28, 159.42, 1212580.0, 757245.0, 455335.0)\n",
            "('Sub-Saharan Africa', 'Cameroon', 'Office Supplies', 'Online', 'M', '2011-11-07', 177636754, '2011-11-15', 5518, 651.21, 524.96, 3593376.78, 2896729.28, 696647.5)\n",
            "('Middle East and North Africa', 'Libya', 'Clothes', 'Offline', 'H', '2010-10-30', 705784308, '2010-11-17', 6116, 109.28, 35.84, 668356.48, 219197.44, 449159.04)\n",
            "('Central America and the Caribbean', 'Haiti', 'Cosmetics', 'Offline', 'H', '2013-10-13', 505716836, '2013-11-16', 1705, 437.2, 263.33, 745426.0, 448977.65, 296448.35)\n",
            "('Sub-Saharan Africa', 'Rwanda', 'Cosmetics', 'Offline', 'H', '2013-10-11', 699358165, '2013-11-25', 4477, 437.2, 263.33, 1957344.4, 1178928.41, 778415.99)\n",
            "('Sub-Saharan Africa', 'Gabon', 'Personal Care', 'Offline', 'L', '2012-07-08', 228944623, '2012-07-09', 8656, 81.73, 56.67, 707454.88, 490535.52, 216919.36)\n",
            "('Central America and the Caribbean', 'Belize', 'Clothes', 'Offline', 'M', '2016-07-25', 807025039, '2016-09-07', 5498, 109.28, 35.84, 600821.44, 197048.32, 403773.12)\n",
            "('Europe', 'Lithuania', 'Office Supplies', 'Offline', 'H', '2010-10-24', 166460740, '2010-11-17', 8287, 651.21, 524.96, 5396577.27, 4350343.52, 1046233.75)\n",
            "('Sub-Saharan Africa', 'Madagascar', 'Clothes', 'Offline', 'L', '2015-04-25', 610425555, '2015-05-28', 7342, 109.28, 35.84, 802333.76, 263137.28, 539196.48)\n",
            "('Asia', 'Turkmenistan', 'Office Supplies', 'Online', 'M', '2013-04-23', 462405812, '2013-05-20', 5010, 651.21, 524.96, 3262562.1, 2630049.6, 632512.5)\n",
            "('Middle East and North Africa', 'Libya', 'Fruits', 'Online', 'L', '2015-08-14', 816200339, '2015-09-30', 673, 9.33, 6.92, 6279.09, 4657.16, 1621.93)\n",
            "('Sub-Saharan Africa', 'Democratic Republic of the Congo', 'Beverages', 'Online', 'C', '2011-05-26', 585920464, '2011-07-15', 5741, 47.45, 31.79, 272410.45, 182506.39, 89904.06)\n",
            "('Sub-Saharan Africa', 'Djibouti', 'Cereal', 'Online', 'H', '2017-05-20', 555990016, '2017-06-17', 8656, 205.7, 117.11, 1780539.2, 1013704.16, 766835.04)\n",
            "('Middle East and North Africa', 'Pakistan', 'Cosmetics', 'Offline', 'L', '2013-07-05', 231145322, '2013-08-16', 9892, 437.2, 263.33, 4324782.4, 2604860.36, 1719922.04)\n",
            "('North America', 'Mexico', 'Household', 'Offline', 'C', '2014-11-06', 986435210, '2014-12-12', 6954, 668.27, 502.54, 4647149.58, 3494663.16, 1152486.42)\n",
            "('Australia and Oceania', 'Federated States of Micronesia', 'Beverages', 'Online', 'C', '2014-10-28', 217221009, '2014-11-15', 9379, 47.45, 31.79, 445033.55, 298158.41, 146875.14)\n",
            "('Asia', 'Laos', 'Vegetables', 'Offline', 'C', '2011-09-15', 789176547, '2011-10-23', 3732, 154.06, 90.93, 574951.92, 339350.76, 235601.16)\n",
            "('Europe', 'Monaco', 'Baby Food', 'Offline', 'H', '2012-05-29', 688288152, '2012-06-02', 8614, 255.28, 159.42, 2198981.92, 1373243.88, 825738.04)\n",
            "('Australia and Oceania', 'Samoa ', 'Cosmetics', 'Online', 'H', '2013-07-20', 670854651, '2013-08-07', 9654, 437.2, 263.33, 4220728.8, 2542187.82, 1678540.98)\n",
            "('Europe', 'Spain', 'Household', 'Offline', 'L', '2012-10-21', 213487374, '2012-11-30', 4513, 668.27, 502.54, 3015902.51, 2267963.02, 747939.49)\n",
            "('Middle East and North Africa', 'Lebanon', 'Clothes', 'Online', 'L', '2012-09-18', 663110148, '2012-10-08', 7884, 109.28, 35.84, 861563.52, 282562.56, 579000.96)\n",
            "('Middle East and North Africa', 'Iran', 'Cosmetics', 'Online', 'H', '2016-11-15', 286959302, '2016-12-08', 6489, 437.2, 263.33, 2836990.8, 1708748.37, 1128242.43)\n",
            "('Sub-Saharan Africa', 'Zambia', 'Snacks', 'Online', 'L', '2011-01-04', 122583663, '2011-01-05', 4085, 152.58, 97.44, 623289.3, 398042.4, 225246.9)\n",
            "('Sub-Saharan Africa', 'Kenya', 'Vegetables', 'Online', 'L', '2012-03-18', 827844560, '2012-04-07', 6457, 154.06, 90.93, 994765.42, 587135.01, 407630.41)\n",
            "('North America', 'Mexico', 'Personal Care', 'Offline', 'L', '2012-02-17', 430915820, '2012-03-20', 6422, 81.73, 56.67, 524870.06, 363934.74, 160935.32)\n",
            "('Sub-Saharan Africa', 'Sao Tome and Principe', 'Beverages', 'Offline', 'C', '2011-01-16', 180283772, '2011-01-21', 8829, 47.45, 31.79, 418936.05, 280673.91, 138262.14)\n",
            "('Sub-Saharan Africa', 'The Gambia', 'Baby Food', 'Offline', 'M', '2014-02-03', 494747245, '2014-03-20', 5559, 255.28, 159.42, 1419101.52, 886215.78, 532885.74)\n",
            "('Middle East and North Africa', 'Kuwait', 'Fruits', 'Online', 'M', '2012-04-30', 513417565, '2012-05-18', 522, 9.33, 6.92, 4870.26, 3612.24, 1258.02)\n",
            "('Europe', 'Slovenia', 'Beverages', 'Offline', 'C', '2016-10-23', 345718562, '2016-11-25', 4660, 47.45, 31.79, 221117.0, 148141.4, 72975.6)\n",
            "('Sub-Saharan Africa', 'Sierra Leone', 'Office Supplies', 'Offline', 'H', '2016-12-06', 621386563, '2016-12-14', 948, 651.21, 524.96, 617347.08, 497662.08, 119685.0)\n",
            "('Australia and Oceania', 'Australia', 'Beverages', 'Offline', 'H', '2014-07-07', 240470397, '2014-07-11', 9389, 47.45, 31.79, 445508.05, 298476.31, 147031.74)\n",
            "('Middle East and North Africa', 'Azerbaijan', 'Office Supplies', 'Online', 'M', '2012-06-13', 423331391, '2012-07-24', 2021, 651.21, 524.96, 1316095.41, 1060944.16, 255151.25)\n",
            "('Europe', 'Romania', 'Cosmetics', 'Online', 'H', '2010-11-26', 660643374, '2010-12-25', 7910, 437.2, 263.33, 3458252.0, 2082940.3, 1375311.7)\n",
            "('Central America and the Caribbean', 'Nicaragua', 'Beverages', 'Offline', 'C', '2011-02-08', 963392674, '2011-03-21', 8156, 47.45, 31.79, 387002.2, 259279.24, 127722.96)\n",
            "('Sub-Saharan Africa', 'Mali', 'Clothes', 'Online', 'M', '2011-07-26', 512878119, '2011-09-03', 888, 109.28, 35.84, 97040.64, 31825.92, 65214.72)\n",
            "('Asia', 'Malaysia', 'Fruits', 'Offline', 'L', '2011-11-11', 810711038, '2011-12-28', 6267, 9.33, 6.92, 58471.11, 43367.64, 15103.47)\n",
            "('Sub-Saharan Africa', 'Sierra Leone', 'Vegetables', 'Offline', 'C', '2016-06-01', 728815257, '2016-06-29', 1485, 154.06, 90.93, 228779.1, 135031.05, 93748.05)\n",
            "('North America', 'Mexico', 'Personal Care', 'Offline', 'M', '2015-07-30', 559427106, '2015-08-08', 5767, 81.73, 56.67, 471336.91, 326815.89, 144521.02)\n",
            "('Sub-Saharan Africa', 'Mozambique', 'Household', 'Offline', 'L', '2012-02-10', 665095412, '2012-02-15', 5367, 668.27, 502.54, 3586605.09, 2697132.18, 889472.91)\n"
          ]
        }
      ]
    },
    {
      "cell_type": "code",
      "source": [
        "#get information about the columns in a table\n",
        "cur.execute(\"PRAGMA table_info(sales)\")\n",
        "results = cur.fetchall()\n",
        "for row in results:\n",
        "    print(row)"
      ],
      "metadata": {
        "colab": {
          "base_uri": "https://localhost:8080/"
        },
        "id": "9MNxWTQquqsr",
        "outputId": "a22a3391-94af-4ce2-e4d1-06a61aee90c5"
      },
      "execution_count": 5,
      "outputs": [
        {
          "output_type": "stream",
          "name": "stdout",
          "text": [
            "(0, 'Region', 'TEXT', 0, None, 0)\n",
            "(1, 'Country', 'TEXT', 0, None, 0)\n",
            "(2, 'Item_Type', 'TEXT', 0, None, 0)\n",
            "(3, 'Sales_Channel', 'TEXT', 0, None, 0)\n",
            "(4, 'Order_Priority', 'TEXT', 0, None, 0)\n",
            "(5, 'Order_Date', 'DATE', 0, None, 0)\n",
            "(6, 'Order_ID', 'INTEGER', 0, None, 0)\n",
            "(7, 'Ship_Date', 'DATE', 0, None, 0)\n",
            "(8, 'Units_Sold', 'INTEGER', 0, None, 0)\n",
            "(9, 'Unit_Price', 'REAL', 0, None, 0)\n",
            "(10, 'Unit_Cost', 'REAL', 0, None, 0)\n",
            "(11, 'Total_Revenue', 'REAL', 0, None, 0)\n",
            "(12, 'Total_Cost', 'REAL', 0, None, 0)\n",
            "(13, 'Total_Profit', 'REAL', 0, None, 0)\n"
          ]
        }
      ]
    },
    {
      "cell_type": "code",
      "source": [
        "# Get information about foreign keys in the sales table\n",
        "cur.execute(\"PRAGMA foreign_key_list(sales)\")\n",
        "results = cur.fetchall()\n",
        "for row in results:\n",
        "    print(row)"
      ],
      "metadata": {
        "id": "7oYByy7KwlUv"
      },
      "execution_count": 25,
      "outputs": []
    },
    {
      "cell_type": "code",
      "source": [
        "# Get information about foreign keys in the indexes table\n",
        "cur.execute(\"PRAGMA index_list(sales)\")\n",
        "results = cur.fetchall()\n",
        "for row in results:\n",
        "    print(row)"
      ],
      "metadata": {
        "id": "7Pb3XyxvxEQS"
      },
      "execution_count": 26,
      "outputs": []
    },
    {
      "cell_type": "code",
      "source": [
        "\n",
        "cur.execute(\"SELECT COUNTRY, REGION, ITEM_TYPE FROM SALES LIMIT 0,10\")\n",
        "results = cur.fetchall()\n",
        "for row in results:\n",
        "    print(row)"
      ],
      "metadata": {
        "colab": {
          "base_uri": "https://localhost:8080/"
        },
        "id": "lWtQRGkKxXQ1",
        "outputId": "82719154-a4a1-4f50-cec8-1775ab9a5164"
      },
      "execution_count": 9,
      "outputs": [
        {
          "output_type": "stream",
          "name": "stdout",
          "text": [
            "('Tuvalu', 'Australia and Oceania', 'Baby Food')\n",
            "('Grenada', 'Central America and the Caribbean', 'Cereal')\n",
            "('Russia', 'Europe', 'Office Supplies')\n",
            "('Sao Tome and Principe', 'Sub-Saharan Africa', 'Fruits')\n",
            "('Rwanda', 'Sub-Saharan Africa', 'Office Supplies')\n",
            "('Solomon Islands', 'Australia and Oceania', 'Baby Food')\n",
            "('Angola', 'Sub-Saharan Africa', 'Household')\n",
            "('Burkina Faso', 'Sub-Saharan Africa', 'Vegetables')\n",
            "('Republic of the Congo', 'Sub-Saharan Africa', 'Personal Care')\n",
            "('Senegal', 'Sub-Saharan Africa', 'Cereal')\n"
          ]
        }
      ]
    },
    {
      "cell_type": "code",
      "source": [
        "cur.execute(\"SELECT COUNTRY, REGION, ITEM_TYPE FROM SALES WHERE UNIT_COST <100\")\n",
        "results = cur.fetchall()\n",
        "for row in results:\n",
        "    print(row)"
      ],
      "metadata": {
        "colab": {
          "base_uri": "https://localhost:8080/"
        },
        "id": "JGPf6IEmx24M",
        "outputId": "aefd8fd4-7f11-474d-8f44-b3a252f0a16c"
      },
      "execution_count": 12,
      "outputs": [
        {
          "output_type": "stream",
          "name": "stdout",
          "text": [
            "('Sao Tome and Principe', 'Sub-Saharan Africa', 'Fruits')\n",
            "('Burkina Faso', 'Sub-Saharan Africa', 'Vegetables')\n",
            "('Republic of the Congo', 'Sub-Saharan Africa', 'Personal Care')\n",
            "('Kyrgyzstan', 'Asia', 'Vegetables')\n",
            "('Cape Verde', 'Sub-Saharan Africa', 'Clothes')\n",
            "('Bangladesh', 'Asia', 'Clothes')\n",
            "('Mongolia', 'Asia', 'Personal Care')\n",
            "('Bulgaria', 'Europe', 'Clothes')\n",
            "('Cameroon', 'Sub-Saharan Africa', 'Beverages')\n",
            "('Honduras', 'Central America and the Caribbean', 'Snacks')\n",
            "('New Zealand', 'Australia and Oceania', 'Fruits')\n",
            "('Moldova ', 'Europe', 'Personal Care')\n",
            "('Kiribati', 'Australia and Oceania', 'Fruits')\n",
            "('Mali', 'Sub-Saharan Africa', 'Fruits')\n",
            "('Norway', 'Europe', 'Beverages')\n",
            "('South Sudan', 'Sub-Saharan Africa', 'Personal Care')\n",
            "('Djibouti', 'Sub-Saharan Africa', 'Snacks')\n",
            "('Costa Rica', 'Central America and the Caribbean', 'Personal Care')\n",
            "('Syria', 'Middle East and North Africa', 'Fruits')\n",
            "('Niger', 'Sub-Saharan Africa', 'Personal Care')\n",
            "('Slovakia', 'Europe', 'Vegetables')\n",
            "('Myanmar', 'Asia', 'Clothes')\n",
            "('Switzerland', 'Europe', 'Personal Care')\n",
            "('Macedonia', 'Europe', 'Clothes')\n",
            "('Albania', 'Europe', 'Clothes')\n",
            "('Lesotho', 'Sub-Saharan Africa', 'Fruits')\n",
            "('Sao Tome and Principe', 'Sub-Saharan Africa', 'Fruits')\n",
            "(\"Cote d'Ivoire\", 'Sub-Saharan Africa', 'Clothes')\n",
            "('Fiji', 'Australia and Oceania', 'Clothes')\n",
            "('Libya', 'Middle East and North Africa', 'Clothes')\n",
            "('Gabon', 'Sub-Saharan Africa', 'Personal Care')\n",
            "('Belize', 'Central America and the Caribbean', 'Clothes')\n",
            "('Madagascar', 'Sub-Saharan Africa', 'Clothes')\n",
            "('Libya', 'Middle East and North Africa', 'Fruits')\n",
            "('Democratic Republic of the Congo', 'Sub-Saharan Africa', 'Beverages')\n",
            "('Federated States of Micronesia', 'Australia and Oceania', 'Beverages')\n",
            "('Laos', 'Asia', 'Vegetables')\n",
            "('Lebanon', 'Middle East and North Africa', 'Clothes')\n",
            "('Zambia', 'Sub-Saharan Africa', 'Snacks')\n",
            "('Kenya', 'Sub-Saharan Africa', 'Vegetables')\n",
            "('Mexico', 'North America', 'Personal Care')\n",
            "('Sao Tome and Principe', 'Sub-Saharan Africa', 'Beverages')\n",
            "('Kuwait', 'Middle East and North Africa', 'Fruits')\n",
            "('Slovenia', 'Europe', 'Beverages')\n",
            "('Australia', 'Australia and Oceania', 'Beverages')\n",
            "('Nicaragua', 'Central America and the Caribbean', 'Beverages')\n",
            "('Mali', 'Sub-Saharan Africa', 'Clothes')\n",
            "('Malaysia', 'Asia', 'Fruits')\n",
            "('Sierra Leone', 'Sub-Saharan Africa', 'Vegetables')\n",
            "('Mexico', 'North America', 'Personal Care')\n"
          ]
        }
      ]
    },
    {
      "cell_type": "code",
      "source": [
        "conn.close()"
      ],
      "metadata": {
        "id": "xlSZWJ6Kz4Tc"
      },
      "execution_count": 12,
      "outputs": []
    },
    {
      "cell_type": "code",
      "source": [
        "conn = sqlite3.connect('beegeez_sales_data.db')"
      ],
      "metadata": {
        "id": "Kp9Yb87x6tpg"
      },
      "execution_count": 22,
      "outputs": []
    },
    {
      "cell_type": "code",
      "source": [
        "cur = conn.cursor()\n",
        "cur.execute(\"SELECT Region FROM sales\")\n",
        "results = cur.fetchall()\n",
        "for row in results:\n",
        "    print(row)\n"
      ],
      "metadata": {
        "id": "umgFISKWA7v4"
      },
      "execution_count": null,
      "outputs": []
    },
    {
      "cell_type": "code",
      "source": [
        "#filtering grouping & aggregation\n",
        "df_sales = pd.read_sql_query(\"SELECT * FROM sales;\", conn)\n",
        "\n",
        "# Display the data frame\n",
        "print(df_sales.head())"
      ],
      "metadata": {
        "id": "aOjACKhL7Z_R"
      },
      "execution_count": null,
      "outputs": []
    },
    {
      "cell_type": "code",
      "source": [
        "df_sales = pd.read_sql_query(\"SELECT Region, Country, Item_Type FROM sales;\", conn)\n",
        "\n",
        "# Display the data frame\n",
        "print(df_sales.head())"
      ],
      "metadata": {
        "id": "jbof1vvQ9Ooq"
      },
      "execution_count": null,
      "outputs": []
    },
    {
      "cell_type": "code",
      "source": [
        "df_high_price_orders = df_sales_price[df_sales_price['Unit_Price'] > 100]\n",
        "\n",
        "# Display the filtered data frame\n",
        "print(df_high_price_orders.head())"
      ],
      "metadata": {
        "id": "iJ7T-JGQ9bcJ"
      },
      "execution_count": null,
      "outputs": []
    },
    {
      "cell_type": "code",
      "source": [
        "df_orders_by_sales = df_orders.groupby('Region').agg({'total_price': ['mean', 'sum']})\n",
        "\n",
        "# Flatten the multi-level column index\n",
        "df_orders_by_sales.columns = ['_'.join(col).strip() for col in df_orders_by_sales.columns.values]\n",
        "\n",
        "# Display the grouped data frame\n",
        "print(df_orders_by_sales.head())"
      ],
      "metadata": {
        "id": "Byx2YRZk9uff"
      },
      "execution_count": null,
      "outputs": []
    },
    {
      "cell_type": "code",
      "source": [
        "#cleaing and preprocessing\n",
        "df_sales = pd.read_sql_query(\"SELECT * FROM sales;\", conn)\n",
        "\n",
        "# Check for missing values\n",
        "print(df_sales.isnull().sum())\n",
        "\n",
        "# Fill in missing values with the mean or median as appropriate\n",
        "df_sales['age'].fillna(df_sales['age'].mean(), inplace=True)\n",
        "\n",
        "# Check for inconsistent values\n",
        "print(df_sales['gender'].unique())\n",
        "\n",
        "# Standardize categorical variables\n",
        "df_sales['gender'].replace({'M': 'Male', 'F': 'Female'}, inplace=True)\n",
        "\n",
        "# Remove duplicates\n",
        "df_sales.drop_duplicates(inplace=True)\n",
        "\n",
        "# Convert data types\n",
        "df_sales['date_of_birth'] = pd.to_datetime(df_sales['date_of_birth'])\n",
        "\n",
        "# Display the cleaned and pre-processed data frame\n",
        "print(df_sales.head())"
      ],
      "metadata": {
        "id": "Vb5rpjHA96LP"
      },
      "execution_count": null,
      "outputs": []
    },
    {
      "cell_type": "code",
      "source": [
        "sales_data = pd.read_sql_query('SELECT * FROM sales', conn)\n",
        "\n",
        "# check for missing values\n",
        "print(sales_data.isnull().sum())\n",
        "\n",
        "# replace missing values with 0\n",
        "sales_data = sales_data.fillna(0)\n",
        "\n",
        "# check for inconsistent values\n",
        "print(sales_data['Units_Sold'].unique())\n",
        "\n",
        "# replace inconsistent values with 0\n",
        "sales_data.loc[sales_data['Units_Sold'] < 0, 'Units_Sold'] = 0\n",
        "\n",
        "# drop unnecessary columns\n",
        "sales_data = sales_data.drop(['Region', 'Order_Date'], axis=1)\n",
        "\n",
        "# convert Ship_Date column to datetime format\n",
        "sales_data['Ship_Date'] = pd.to_datetime(sales_data['Ship_Date'])\n",
        "\n",
        "# set Ship_Date as the index\n",
        "sales_data = sales_data.set_index('Ship_Date')\n",
        "\n",
        "# resample the data to monthly frequency\n",
        "sales_data_monthly = sales_data.resample('M').sum()"
      ],
      "metadata": {
        "id": "IeWMJ3XO_SyL"
      },
      "execution_count": null,
      "outputs": []
    },
    {
      "cell_type": "code",
      "source": [],
      "metadata": {
        "id": "KOhKiJIpAM0q"
      },
      "execution_count": null,
      "outputs": []
    }
  ]
}