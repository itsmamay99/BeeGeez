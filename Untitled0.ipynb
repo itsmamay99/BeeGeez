{
  "nbformat": 4,
  "nbformat_minor": 0,
  "metadata": {
    "colab": {
      "provenance": []
    },
    "kernelspec": {
      "name": "python3",
      "display_name": "Python 3"
    },
    "language_info": {
      "name": "python"
    }
  },
  "cells": [
    {
      "cell_type": "code",
      "execution_count": null,
      "metadata": {
        "id": "yJT1R5fKgKtJ"
      },
      "outputs": [],
      "source": [
        "!python --version\n",
        "!pip list -v"
      ]
    },
    {
      "cell_type": "code",
      "source": [
        "import sqlite3"
      ],
      "metadata": {
        "id": "G0YNv_uShMy0"
      },
      "execution_count": 5,
      "outputs": []
    },
    {
      "cell_type": "code",
      "source": [
        "import pandas as pd"
      ],
      "metadata": {
        "id": "U8howEYlhQBF"
      },
      "execution_count": 6,
      "outputs": []
    },
    {
      "cell_type": "code",
      "source": [
        "import matplotlib.pyplot as plt\n"
      ],
      "metadata": {
        "id": "u4ty2G-7hRgk"
      },
      "execution_count": 8,
      "outputs": []
    },
    {
      "cell_type": "code",
      "source": [
        "import ipywidgets as widgets"
      ],
      "metadata": {
        "id": "92ckGWNnhT2S"
      },
      "execution_count": 9,
      "outputs": []
    },
    {
      "cell_type": "code",
      "source": [
        "conn = sqlite3.connect('beegeez_sales_data_sqlite3.db')"
      ],
      "metadata": {
        "id": "EzbOpo7thXo2"
      },
      "execution_count": 10,
      "outputs": []
    },
    {
      "cell_type": "code",
      "source": [
        "cursor = conn.cursor()"
      ],
      "metadata": {
        "id": "EDWA027Hh0M6"
      },
      "execution_count": 11,
      "outputs": []
    },
    {
      "cell_type": "code",
      "source": [
        "cursor.execute(\"SELECT name FROM sqlite_master WHERE type='table' \")\n",
        "tables = cursor.fetchall()"
      ],
      "metadata": {
        "id": "gM2a4ncEh5WW"
      },
      "execution_count": 12,
      "outputs": []
    },
    {
      "cell_type": "code",
      "source": [
        "for table in tables:\n",
        "    table_name = table[0]\n",
        "    print(\"Table:\", table_name)\n",
        "    cursor.execute(f\"PRAGMA table_info({table_name})\")\n",
        "    columns = cursor.fetchall()\n",
        "    for column in columns:\n",
        "        print(column)\n",
        "    print()"
      ],
      "metadata": {
        "colab": {
          "base_uri": "https://localhost:8080/"
        },
        "id": "Fq_nxqIejXS_",
        "outputId": "b5fd1e6a-5f75-40d8-ec73-201cebb6c625"
      },
      "execution_count": 13,
      "outputs": [
        {
          "output_type": "stream",
          "name": "stdout",
          "text": [
            "Table: sales\n",
            "(0, 'Region', 'TEXT', 0, None, 0)\n",
            "(1, 'Country', 'TEXT', 0, None, 0)\n",
            "(2, 'Item_Type', 'TEXT', 0, None, 0)\n",
            "(3, 'Sales_Channel', 'TEXT', 0, None, 0)\n",
            "(4, 'Order_Priority', 'TEXT', 0, None, 0)\n",
            "(5, 'Order_Date', 'DATE', 0, None, 0)\n",
            "(6, 'Order_ID', 'INTEGER', 0, None, 0)\n",
            "(7, 'Ship_Date', 'DATE', 0, None, 0)\n",
            "(8, 'Units_Sold', 'INTEGER', 0, None, 0)\n",
            "(9, 'Unit_Price', 'REAL', 0, None, 0)\n",
            "(10, 'Unit_Cost', 'REAL', 0, None, 0)\n",
            "(11, 'Total_Revenue', 'REAL', 0, None, 0)\n",
            "(12, 'Total_Cost', 'REAL', 0, None, 0)\n",
            "(13, 'Total_Profit', 'REAL', 0, None, 0)\n",
            "\n"
          ]
        }
      ]
    },
    {
      "cell_type": "code",
      "source": [],
      "metadata": {
        "id": "Sjm12nvRjhnY"
      },
      "execution_count": null,
      "outputs": []
    }
  ]
}